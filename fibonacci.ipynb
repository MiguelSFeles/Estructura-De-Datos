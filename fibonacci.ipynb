{
 "cells": [
  {
   "cell_type": "code",
   "execution_count": 1,
   "metadata": {},
   "outputs": [],
   "source": [
    "from time import time\n",
    "import pandas as pd\n",
    "import matplotlib.pyplot as plt"
   ]
  },
  {
   "cell_type": "code",
   "execution_count": 2,
   "metadata": {},
   "outputs": [
    {
     "data": {
      "text/plain": [
       "2"
      ]
     },
     "execution_count": 2,
     "metadata": {},
     "output_type": "execute_result"
    }
   ],
   "source": [
    "def binaryFib(k):\n",
    "    if k <= 1:\n",
    "        return k\n",
    "    else:\n",
    "        return binaryFib(k - 1) + binaryFib(k - 2)\n",
    "binaryFib(3)\n"
   ]
  },
  {
   "cell_type": "code",
   "execution_count": 3,
   "metadata": {},
   "outputs": [
    {
     "data": {
      "text/plain": [
       "2"
      ]
     },
     "execution_count": 3,
     "metadata": {},
     "output_type": "execute_result"
    }
   ],
   "source": [
    "def linearFib(k):\n",
    "    if k == 1:\n",
    "        return (k,0)\n",
    "    else:\n",
    "        (i,j) = linearFib( k - 1)\n",
    "        return (i + j, i)\n",
    "\n",
    "linearFib(3)[0]"
   ]
  },
  {
   "cell_type": "code",
   "execution_count": 4,
   "metadata": {},
   "outputs": [],
   "source": [
    "tabla = pd.DataFrame()"
   ]
  },
  {
   "cell_type": "code",
   "execution_count": 5,
   "metadata": {},
   "outputs": [
    {
     "data": {
      "text/html": [
       "<div>\n",
       "<style scoped>\n",
       "    .dataframe tbody tr th:only-of-type {\n",
       "        vertical-align: middle;\n",
       "    }\n",
       "\n",
       "    .dataframe tbody tr th {\n",
       "        vertical-align: top;\n",
       "    }\n",
       "\n",
       "    .dataframe thead th {\n",
       "        text-align: right;\n",
       "    }\n",
       "</style>\n",
       "<table border=\"1\" class=\"dataframe\">\n",
       "  <thead>\n",
       "    <tr style=\"text-align: right;\">\n",
       "      <th></th>\n",
       "      <th>Valor</th>\n",
       "      <th>binaryFib</th>\n",
       "      <th>linearFib</th>\n",
       "    </tr>\n",
       "  </thead>\n",
       "  <tbody>\n",
       "    <tr>\n",
       "      <th>0</th>\n",
       "      <td>1</td>\n",
       "      <td>9.536743e-07</td>\n",
       "      <td>1.192093e-06</td>\n",
       "    </tr>\n",
       "    <tr>\n",
       "      <th>1</th>\n",
       "      <td>2</td>\n",
       "      <td>9.536743e-07</td>\n",
       "      <td>0.000000e+00</td>\n",
       "    </tr>\n",
       "    <tr>\n",
       "      <th>2</th>\n",
       "      <td>3</td>\n",
       "      <td>9.536743e-07</td>\n",
       "      <td>7.152557e-07</td>\n",
       "    </tr>\n",
       "    <tr>\n",
       "      <th>3</th>\n",
       "      <td>4</td>\n",
       "      <td>1.192093e-06</td>\n",
       "      <td>9.536743e-07</td>\n",
       "    </tr>\n",
       "    <tr>\n",
       "      <th>4</th>\n",
       "      <td>5</td>\n",
       "      <td>9.536743e-07</td>\n",
       "      <td>0.000000e+00</td>\n",
       "    </tr>\n",
       "    <tr>\n",
       "      <th>5</th>\n",
       "      <td>6</td>\n",
       "      <td>2.861023e-06</td>\n",
       "      <td>1.192093e-06</td>\n",
       "    </tr>\n",
       "    <tr>\n",
       "      <th>6</th>\n",
       "      <td>7</td>\n",
       "      <td>2.861023e-06</td>\n",
       "      <td>9.536743e-07</td>\n",
       "    </tr>\n",
       "    <tr>\n",
       "      <th>7</th>\n",
       "      <td>8</td>\n",
       "      <td>8.106232e-06</td>\n",
       "      <td>7.152557e-07</td>\n",
       "    </tr>\n",
       "    <tr>\n",
       "      <th>8</th>\n",
       "      <td>9</td>\n",
       "      <td>1.025200e-05</td>\n",
       "      <td>1.907349e-06</td>\n",
       "    </tr>\n",
       "    <tr>\n",
       "      <th>9</th>\n",
       "      <td>10</td>\n",
       "      <td>1.406670e-05</td>\n",
       "      <td>2.145767e-06</td>\n",
       "    </tr>\n",
       "  </tbody>\n",
       "</table>\n",
       "</div>"
      ],
      "text/plain": [
       "   Valor     binaryFib     linearFib\n",
       "0      1  9.536743e-07  1.192093e-06\n",
       "1      2  9.536743e-07  0.000000e+00\n",
       "2      3  9.536743e-07  7.152557e-07\n",
       "3      4  1.192093e-06  9.536743e-07\n",
       "4      5  9.536743e-07  0.000000e+00\n",
       "5      6  2.861023e-06  1.192093e-06\n",
       "6      7  2.861023e-06  9.536743e-07\n",
       "7      8  8.106232e-06  7.152557e-07\n",
       "8      9  1.025200e-05  1.907349e-06\n",
       "9     10  1.406670e-05  2.145767e-06"
      ]
     },
     "execution_count": 5,
     "metadata": {},
     "output_type": "execute_result"
    }
   ],
   "source": [
    "\n",
    "tabla[\"Valor\"] = None\n",
    "tabla[\"binaryFib\"] = None\n",
    "tabla[\"linearFib\"] = None\n",
    "\n",
    "valor = []\n",
    "binaryTime = []\n",
    "lineTime = []\n",
    "for i in range(1, 11):\n",
    "    valor.append(i)\n",
    "\n",
    "    inicio = time()\n",
    "    binaryFib(i)\n",
    "    final = time()\n",
    "    binaryTime.append(final - inicio)\n",
    "\n",
    "\n",
    "    inicio = time()\n",
    "    linearFib(i)\n",
    "    final = time()\n",
    "    lineTime.append(final - inicio)\n",
    "\n",
    "tabla[\"Valor\"] = valor\n",
    "tabla[\"binaryFib\"] = binaryTime\n",
    "tabla[\"linearFib\"] = lineTime\n",
    "\n",
    "tabla"
   ]
  },
  {
   "cell_type": "code",
   "execution_count": 14,
   "metadata": {},
   "outputs": [
    {
     "data": {
      "image/png": "[encoded data removed]",
      "text/plain": [
       "<Figure size 640x480 with 1 Axes>"
      ]
     },
     "metadata": {},
     "output_type": "display_data"
    }
   ],
   "source": [
    "plt.style.use(\"bmh\") \n",
    "eje_xlin = tabla['linearFib']\n",
    "eje_xbin = tabla['binaryFib']\n",
    "eje_y = tabla['Valor']\n",
    "plt.title(\"Tiempos Fibonacci\")\n",
    "plt.plot(eje_y, eje_xlin, color = \"red\", label='linearFib') #Linear\n",
    "plt.plot(eje_y, eje_xbin, color = \"blue\", label='binaryFib') #Binaria\n",
    "\n",
    "plt.xlabel('Valor')\n",
    "plt.ylabel('Tiempo')\n",
    "\n",
    "plt.show()\n"
   ]
  },
  {
   "cell_type": "code",
   "execution_count": null,
   "metadata": {},
   "outputs": [],
   "source": []
  },
  {
   "cell_type": "code",
   "execution_count": null,
   "metadata": {},
   "outputs": [],
   "source": []
  }
 ],
 "metadata": {
  "kernelspec": {
   "display_name": "Python 3.9.13 ('base')",
   "language": "python",
   "name": "python3"
  },
  "language_info": {
   "codemirror_mode": {
    "name": "ipython",
    "version": 3
   },
   "file_extension": ".py",
   "mimetype": "text/x-python",
   "name": "python",
   "nbconvert_exporter": "python",
   "pygments_lexer": "ipython3",
   "version": "3.9.13"
  },
  "orig_nbformat": 4,
  "vscode": {
   "interpreter": {
    "hash": "40d3a090f54c6569ab1632332b64b2c03c39dcf918b08424e98f38b5ae0af88f"
   }
  }
 },
 "nbformat": 4,
 "nbformat_minor": 2
}
