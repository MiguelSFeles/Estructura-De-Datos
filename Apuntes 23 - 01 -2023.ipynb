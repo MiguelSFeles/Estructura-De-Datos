{
 "cells": [
  {
   "cell_type": "markdown",
   "metadata": {},
   "source": [
    "## Apuntes 23 - 01 - 2023\n",
    "## Miguel Santiago Feles Gómez\n",
    "## Recursión"
   ]
  },
  {
   "cell_type": "markdown",
   "metadata": {},
   "source": [
    "La recursión tiene un caso base: Cuáles van a ser los valores en nuestro caso base, toda función recursiva tiene que llamar a un caso base.\n",
    "\n",
    "El caso base de un árbol que cuando el caso es pequeño.\n",
    "\n",
    "Hace llama recursiva y cada vez se haga más pequeño."
   ]
  },
  {
   "cell_type": "markdown",
   "metadata": {},
   "source": [
    "## Ejemplo, Binary Search. \n",
    "Divide el arreglo en mitades para así aproximarse y llegar al valor deseado."
   ]
  },
  {
   "cell_type": "code",
   "execution_count": 46,
   "metadata": {},
   "outputs": [
    {
     "name": "stdout",
     "output_type": "stream",
     "text": [
      "high es:  9\n",
      "4\n",
      "high es:  3\n",
      "1\n",
      "high es:  3\n",
      "2\n"
     ]
    },
    {
     "data": {
      "text/plain": [
       "True"
      ]
     },
     "execution_count": 46,
     "metadata": {},
     "output_type": "execute_result"
    }
   ],
   "source": [
    "def binary_search(data,target,low,high):\n",
    "\n",
    "    print(\"high es: \", high)\n",
    "    if low>high: #Cuando se cruza se detiene porque no lo encontró\n",
    "        return False\n",
    "    else:\n",
    "        mid = (low + high) // 2\n",
    "        print(mid)\n",
    "        if target == data[mid]:\n",
    "            return True\n",
    "        elif target < data[mid]:\n",
    "            # recur on the portion left of the middle\n",
    "            return binary_search(data, target, low, mid - 1)\n",
    "        else:\n",
    "            return binary_search(data, target, mid + 1, high)\n",
    "\n",
    "data = [0,12,23,43,50,57,58,60,61,62]\n",
    "\n",
    "binary_search(data, 23, 0, 9)"
   ]
  },
  {
   "cell_type": "markdown",
   "metadata": {},
   "source": [
    "<img src=\"binarySearch.jpeg\">"
   ]
  },
  {
   "cell_type": "code",
   "execution_count": 8,
   "metadata": {},
   "outputs": [
    {
     "data": {
      "text/latex": [
       "$\\displaystyle - low + mid$"
      ],
      "text/plain": [
       "-low + mid"
      ]
     },
     "execution_count": 8,
     "metadata": {},
     "output_type": "execute_result"
    }
   ],
   "source": [
    "from sympy import *\n",
    "mid = Symbol('mid')\n",
    "low = Symbol('low')\n",
    "comparación = (mid - 1) - low + 1\n",
    "comparación"
   ]
  },
  {
   "cell_type": "code",
   "execution_count": 27,
   "metadata": {},
   "outputs": [
    {
     "data": {
      "text/plain": [
       "[5, 7, 3, 9, 1]"
      ]
     },
     "execution_count": 27,
     "metadata": {},
     "output_type": "execute_result"
    }
   ],
   "source": [
    "def invert_arreglo(A):\n",
    "\n",
    "    if len(A) == 1:\n",
    "        return [A[0]]\n",
    "    lista = [A[-1]] + invert_arreglo(A[0:-1])\n",
    "\n",
    "    return lista\n",
    "invert_arreglo([1,9,3,7,5])"
   ]
  },
  {
   "cell_type": "code",
   "execution_count": 34,
   "metadata": {},
   "outputs": [
    {
     "data": {
      "image/png": "[encoded data removed]",
      "text/latex": [
       "$\\displaystyle x^{n}$"
      ],
      "text/plain": [
       " n\n",
       "x "
      ]
     },
     "execution_count": 34,
     "metadata": {},
     "output_type": "execute_result"
    }
   ],
   "source": [
    "# Power Function\n",
    "\n",
    "n = Symbol(\"n\")\n",
    "x = Symbol(\"x\")\n",
    "p = x ** n \n",
    "p\n"
   ]
  },
  {
   "cell_type": "code",
   "execution_count": 35,
   "metadata": {},
   "outputs": [
    {
     "data": {
      "image/png": "[encoded data removed]",
      "text/latex": [
       "$\\displaystyle x x^{n - 1}$"
      ],
      "text/plain": [
       "   n - 1\n",
       "x⋅x     "
      ]
     },
     "execution_count": 35,
     "metadata": {},
     "output_type": "execute_result"
    }
   ],
   "source": [
    "po =  x * (x ** (n-1) )\n",
    "po"
   ]
  },
  {
   "cell_type": "code",
   "execution_count": null,
   "metadata": {},
   "outputs": [],
   "source": [
    "# Orgigranar fibonacci mal"
   ]
  }
 ],
 "metadata": {
  "kernelspec": {
   "display_name": "Python 3.9.13 ('base')",
   "language": "python",
   "name": "python3"
  },
  "language_info": {
   "codemirror_mode": {
    "name": "ipython",
    "version": 3
   },
   "file_extension": ".py",
   "mimetype": "text/x-python",
   "name": "python",
   "nbconvert_exporter": "python",
   "pygments_lexer": "ipython3",
   "version": "3.9.13"
  },
  "orig_nbformat": 4,
  "vscode": {
   "interpreter": {
    "hash": "40d3a090f54c6569ab1632332b64b2c03c39dcf918b08424e98f38b5ae0af88f"
   }
  }
 },
 "nbformat": 4,
 "nbformat_minor": 2
}
