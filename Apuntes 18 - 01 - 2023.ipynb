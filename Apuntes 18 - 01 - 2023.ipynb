{
 "cells": [
  {
   "cell_type": "markdown",
   "id": "690c215d",
   "metadata": {},
   "source": [
    "# Miguel Feles - Apuntes Estructura de Datos\n",
    "# 18 - 01 - 2023"
   ]
  },
  {
   "cell_type": "code",
   "execution_count": 9,
   "id": "77083e61",
   "metadata": {},
   "outputs": [],
   "source": [
    "from math import *\n",
    "from sympy.solvers import solve\n",
    "from sympy import Symbol\n",
    "import matplotlib.pyplot as plt"
   ]
  },
  {
   "cell_type": "code",
   "execution_count": 10,
   "id": "14e89edd",
   "metadata": {},
   "outputs": [
    {
     "data": {
      "text/plain": [
       "10"
      ]
     },
     "execution_count": 10,
     "metadata": {},
     "output_type": "execute_result"
    }
   ],
   "source": [
    "def find_max(data):\n",
    "    \"\"\"Encuentra el máximo de una lista de un elemento en Python\"\"\"\n",
    "    biggest = data[0]\n",
    "    for val in data:\n",
    "        if val > biggest:\n",
    "            biggest = val\n",
    "    return biggest\n",
    "\n",
    "l = [5,7,1,3,8,10]\n",
    "\n",
    "find_max(l)"
   ]
  },
  {
   "cell_type": "code",
   "execution_count": 11,
   "id": "7a605236",
   "metadata": {},
   "outputs": [],
   "source": [
    "#Para saber cuándo dos funciones se cruzan y determinar cuál es más rápida se cruzan."
   ]
  },
  {
   "cell_type": "code",
   "execution_count": 12,
   "id": "8f4d024d",
   "metadata": {},
   "outputs": [
    {
     "name": "stdout",
     "output_type": "stream",
     "text": [
      "[0, 20]\n"
     ]
    }
   ],
   "source": [
    "x = Symbol('x')\n",
    "\n",
    "ec1 = 2 * (x**3) - 40 * (x ** 2)\n",
    "print(solve(ec1,x))"
   ]
  },
  {
   "cell_type": "code",
   "execution_count": 13,
   "id": "9935972b",
   "metadata": {},
   "outputs": [],
   "source": [
    "def f1(x):\n",
    "    return 2*(x**3)\n",
    "\n",
    "def f2(x):\n",
    "    return 40 * (x ** 2)\n",
    "\n",
    "rango = range(0, 40)"
   ]
  },
  {
   "cell_type": "code",
   "execution_count": 14,
   "id": "d7fa296a",
   "metadata": {},
   "outputs": [
    {
     "data": {
      "text/plain": [
       "[<matplotlib.lines.Line2D at 0x7fece159adc0>]"
      ]
     },
     "execution_count": 14,
     "metadata": {},
     "output_type": "execute_result"
    },
    {
     "data": {
      "image/png": "[encoded data removed]",
      "text/plain": [
       "<Figure size 640x480 with 1 Axes>"
      ]
     },
     "metadata": {},
     "output_type": "display_data"
    }
   ],
   "source": [
    "plt.plot(rango, [f1(i) for i in rango])\n",
    "plt.plot(rango, [f2(i) for i in rango])"
   ]
  },
  {
   "cell_type": "markdown",
   "id": "1c3cc4eb",
   "metadata": {},
   "source": [
    "## Prefix Averages (Quadratic)"
   ]
  },
  {
   "cell_type": "code",
   "execution_count": 15,
   "id": "f9abb5ad",
   "metadata": {},
   "outputs": [],
   "source": [
    "def prefix_average1(S):\n",
    "    n = len(S)\n",
    "    S = [0] * n\n",
    "    \n",
    "    for j in range(n):\n",
    "        total = 0\n",
    "        \n",
    "        for i in range(j + 1):\n",
    "            total += S[i]\n",
    "        A[j] = total/(j+1)\n",
    "        \n",
    "    return A\n",
    "\n",
    "# Es repetitivoabs"
   ]
  },
  {
   "cell_type": "code",
   "execution_count": null,
   "id": "151070fb",
   "metadata": {},
   "outputs": [],
   "source": [
    "def prefix_average2(S):\n",
    "    \n",
    "    n = len(S)\n",
    "    A = [0] * n\n",
    "    for j in range(n):\n",
    "        A[j] = sum(S[0:j+1])/(j+1)\n",
    "    return A"
   ]
  },
  {
   "cell_type": "markdown",
   "id": "203df6a2",
   "metadata": {},
   "source": [
    "## Big-Oh"
   ]
  },
  {
   "cell_type": "markdown",
   "id": "2a5f85e9",
   "metadata": {},
   "source": [
    "“Big O notation is a mathematical notation that describes the limiting behavior of a function when the argument tends towards a particular value or infinity. It is a member of a family of notations invented by Paul Bachmann, Edmund Landau, and others, collectively called Bachmann–Landau notation or asymptotic notation.”\n",
    "\n",
    "— Wikipedia’s definition of Big O notation"
   ]
  },
  {
   "cell_type": "markdown",
   "id": "54c62d78",
   "metadata": {},
   "source": [
    "Vídeo de explicación https://www.youtube.com/watch?v=dyw0SohyEkw"
   ]
  }
 ],
 "metadata": {
  "kernelspec": {
   "display_name": "Python 3.9.13 ('base')",
   "language": "python",
   "name": "python3"
  },
  "language_info": {
   "codemirror_mode": {
    "name": "ipython",
    "version": 3
   },
   "file_extension": ".py",
   "mimetype": "text/x-python",
   "name": "python",
   "nbconvert_exporter": "python",
   "pygments_lexer": "ipython3",
   "version": "3.9.13"
  },
  "vscode": {
   "interpreter": {
    "hash": "40d3a090f54c6569ab1632332b64b2c03c39dcf918b08424e98f38b5ae0af88f"
   }
  }
 },
 "nbformat": 4,
 "nbformat_minor": 5
}
