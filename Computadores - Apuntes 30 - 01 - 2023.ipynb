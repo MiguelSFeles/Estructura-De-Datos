{
 "cells": [
  {
   "cell_type": "markdown",
   "metadata": {},
   "source": [
    "## Miguel Santiago Feles Gómez\n",
    "\n",
    "## Apuntes 30 - 01 - 2023\n",
    "\n",
    "## ¿Cómo funcionan los computadores?"
   ]
  },
  {
   "cell_type": "markdown",
   "metadata": {},
   "source": [
    "1 bit = 0 | 1\n",
    "\n",
    "1 byte = 8 bits\n",
    "\n",
    "_ _ _ _ _ _ _ _ 1 byte = 2**8 - 1 = 255"
   ]
  },
  {
   "cell_type": "markdown",
   "metadata": {},
   "source": [
    "#### Definir el método de listas"
   ]
  },
  {
   "cell_type": "code",
   "execution_count": 3,
   "metadata": {},
   "outputs": [
    {
     "data": {
      "text/plain": [
       "2"
      ]
     },
     "execution_count": 3,
     "metadata": {},
     "output_type": "execute_result"
    }
   ],
   "source": [
    "l = [2,4,6,8]\n",
    "l[0] # -> 2\n",
    "\n",
    "#Si quiero mirar 4 desde la vista de los computadores\n",
    "# Posición(l[0]) + 1*Tamaño = l[1] = 4\n",
    "\n",
    "#Manera sencilla de dar un arreglo es asignarle un elemento a cada casilla\n",
    "#Otra forma es hacer un arreglo de arreglos"
   ]
  },
  {
   "cell_type": "code",
   "execution_count": 5,
   "metadata": {},
   "outputs": [],
   "source": [
    "# primes = array('i', [2,3,5,7,11,13,17,19])\n",
    "# Función array me construirá un arreglo"
   ]
  },
  {
   "cell_type": "markdown",
   "metadata": {},
   "source": [
    "<img src=\"imágenes/Bits.jpg\">"
   ]
  },
  {
   "cell_type": "code",
   "execution_count": 71,
   "metadata": {},
   "outputs": [],
   "source": [
    "import matplotlib.pyplot as plt\n",
    "import pandas as pd\n"
   ]
  },
  {
   "cell_type": "code",
   "execution_count": 76,
   "metadata": {},
   "outputs": [
    {
     "name": "stdout",
     "output_type": "stream",
     "text": [
      "Lenght:   0;  Size in bytes:   56\n",
      "Lenght:   1;  Size in bytes:   88\n",
      "Lenght:   2;  Size in bytes:   88\n",
      "Lenght:   3;  Size in bytes:   88\n",
      "Lenght:   4;  Size in bytes:   88\n",
      "Lenght:   5;  Size in bytes:  120\n",
      "Lenght:   6;  Size in bytes:  120\n",
      "Lenght:   7;  Size in bytes:  120\n",
      "Lenght:   8;  Size in bytes:  120\n",
      "Lenght:   9;  Size in bytes:  184\n",
      "Lenght:  10;  Size in bytes:  184\n",
      "Lenght:  11;  Size in bytes:  184\n",
      "Lenght:  12;  Size in bytes:  184\n",
      "Lenght:  13;  Size in bytes:  184\n",
      "Lenght:  14;  Size in bytes:  184\n",
      "Lenght:  15;  Size in bytes:  184\n",
      "Lenght:  16;  Size in bytes:  184\n",
      "Lenght:  17;  Size in bytes:  248\n",
      "Lenght:  18;  Size in bytes:  248\n",
      "Lenght:  19;  Size in bytes:  248\n",
      "Lenght:  20;  Size in bytes:  248\n",
      "Lenght:  21;  Size in bytes:  248\n",
      "Lenght:  22;  Size in bytes:  248\n",
      "Lenght:  23;  Size in bytes:  248\n",
      "Lenght:  24;  Size in bytes:  248\n",
      "Lenght:  25;  Size in bytes:  312\n",
      "Lenght:  26;  Size in bytes:  312\n",
      "Lenght:  27;  Size in bytes:  312\n",
      "Lenght:  28;  Size in bytes:  312\n",
      "Lenght:  29;  Size in bytes:  312\n",
      "Lenght:  30;  Size in bytes:  312\n",
      "Lenght:  31;  Size in bytes:  312\n",
      "Lenght:  32;  Size in bytes:  312\n",
      "Lenght:  33;  Size in bytes:  376\n",
      "Lenght:  34;  Size in bytes:  376\n",
      "Lenght:  35;  Size in bytes:  376\n",
      "Lenght:  36;  Size in bytes:  376\n",
      "Lenght:  37;  Size in bytes:  376\n",
      "Lenght:  38;  Size in bytes:  376\n",
      "Lenght:  39;  Size in bytes:  376\n",
      "Lenght:  40;  Size in bytes:  376\n",
      "Lenght:  41;  Size in bytes:  472\n",
      "Lenght:  42;  Size in bytes:  472\n",
      "Lenght:  43;  Size in bytes:  472\n",
      "Lenght:  44;  Size in bytes:  472\n",
      "Lenght:  45;  Size in bytes:  472\n",
      "Lenght:  46;  Size in bytes:  472\n",
      "Lenght:  47;  Size in bytes:  472\n",
      "Lenght:  48;  Size in bytes:  472\n",
      "Lenght:  49;  Size in bytes:  472\n",
      "Lenght:  50;  Size in bytes:  472\n",
      "Lenght:  51;  Size in bytes:  472\n",
      "Lenght:  52;  Size in bytes:  472\n",
      "Lenght:  53;  Size in bytes:  568\n",
      "Lenght:  54;  Size in bytes:  568\n",
      "Lenght:  55;  Size in bytes:  568\n",
      "Lenght:  56;  Size in bytes:  568\n",
      "Lenght:  57;  Size in bytes:  568\n",
      "Lenght:  58;  Size in bytes:  568\n",
      "Lenght:  59;  Size in bytes:  568\n",
      "Lenght:  60;  Size in bytes:  568\n",
      "Lenght:  61;  Size in bytes:  568\n",
      "Lenght:  62;  Size in bytes:  568\n",
      "Lenght:  63;  Size in bytes:  568\n",
      "Lenght:  64;  Size in bytes:  568\n",
      "Lenght:  65;  Size in bytes:  664\n",
      "Lenght:  66;  Size in bytes:  664\n",
      "Lenght:  67;  Size in bytes:  664\n",
      "Lenght:  68;  Size in bytes:  664\n",
      "Lenght:  69;  Size in bytes:  664\n",
      "Lenght:  70;  Size in bytes:  664\n",
      "Lenght:  71;  Size in bytes:  664\n",
      "Lenght:  72;  Size in bytes:  664\n",
      "Lenght:  73;  Size in bytes:  664\n",
      "Lenght:  74;  Size in bytes:  664\n",
      "Lenght:  75;  Size in bytes:  664\n",
      "Lenght:  76;  Size in bytes:  664\n",
      "Lenght:  77;  Size in bytes:  792\n",
      "Lenght:  78;  Size in bytes:  792\n",
      "Lenght:  79;  Size in bytes:  792\n",
      "Lenght:  80;  Size in bytes:  792\n",
      "Lenght:  81;  Size in bytes:  792\n",
      "Lenght:  82;  Size in bytes:  792\n",
      "Lenght:  83;  Size in bytes:  792\n",
      "Lenght:  84;  Size in bytes:  792\n",
      "Lenght:  85;  Size in bytes:  792\n",
      "Lenght:  86;  Size in bytes:  792\n",
      "Lenght:  87;  Size in bytes:  792\n",
      "Lenght:  88;  Size in bytes:  792\n",
      "Lenght:  89;  Size in bytes:  792\n",
      "Lenght:  90;  Size in bytes:  792\n",
      "Lenght:  91;  Size in bytes:  792\n",
      "Lenght:  92;  Size in bytes:  792\n",
      "Lenght:  93;  Size in bytes:  920\n",
      "Lenght:  94;  Size in bytes:  920\n",
      "Lenght:  95;  Size in bytes:  920\n",
      "Lenght:  96;  Size in bytes:  920\n",
      "Lenght:  97;  Size in bytes:  920\n",
      "Lenght:  98;  Size in bytes:  920\n",
      "Lenght:  99;  Size in bytes:  920\n"
     ]
    }
   ],
   "source": [
    "\n",
    "agregar = pd.DataFrame()\n",
    "agregar[\"Lenght\"] = None\n",
    "agregar[\"Size\"] = None\n",
    "import sys\n",
    "n = 100\n",
    "data = []\n",
    "lenght = []\n",
    "size = []\n",
    "for k in range(n):\n",
    "    a = len(data)\n",
    "    lenght.append(a)\n",
    "    b = sys.getsizeof(data)\n",
    "    size.append(b)\n",
    "\n",
    "    print( \"Lenght: {0:3d};  Size in bytes: {1:4d}\".format(a,b))\n",
    "\n",
    "    data.append(None)\n",
    "\n",
    "agregar[\"Lenght\"] = lenght\n",
    "agregar[\"Size\"] = size"
   ]
  },
  {
   "cell_type": "code",
   "execution_count": 79,
   "metadata": {},
   "outputs": [
    {
     "name": "stdout",
     "output_type": "stream",
     "text": [
      "Lenght:  99;  Size in bytes:  920\n",
      "Lenght:  98;  Size in bytes:  920\n",
      "Lenght:  97;  Size in bytes:  920\n",
      "Lenght:  96;  Size in bytes:  920\n",
      "Lenght:  95;  Size in bytes:  920\n",
      "Lenght:  94;  Size in bytes:  920\n",
      "Lenght:  93;  Size in bytes:  920\n",
      "Lenght:  92;  Size in bytes:  920\n",
      "Lenght:  91;  Size in bytes:  920\n",
      "Lenght:  90;  Size in bytes:  920\n",
      "Lenght:  89;  Size in bytes:  920\n",
      "Lenght:  88;  Size in bytes:  920\n",
      "Lenght:  87;  Size in bytes:  920\n",
      "Lenght:  86;  Size in bytes:  920\n",
      "Lenght:  85;  Size in bytes:  920\n",
      "Lenght:  84;  Size in bytes:  920\n",
      "Lenght:  83;  Size in bytes:  920\n",
      "Lenght:  82;  Size in bytes:  920\n",
      "Lenght:  81;  Size in bytes:  920\n",
      "Lenght:  80;  Size in bytes:  920\n",
      "Lenght:  79;  Size in bytes:  920\n",
      "Lenght:  78;  Size in bytes:  920\n",
      "Lenght:  77;  Size in bytes:  920\n",
      "Lenght:  76;  Size in bytes:  920\n",
      "Lenght:  75;  Size in bytes:  920\n",
      "Lenght:  74;  Size in bytes:  920\n",
      "Lenght:  73;  Size in bytes:  920\n",
      "Lenght:  72;  Size in bytes:  920\n",
      "Lenght:  71;  Size in bytes:  920\n",
      "Lenght:  70;  Size in bytes:  920\n",
      "Lenght:  69;  Size in bytes:  920\n",
      "Lenght:  68;  Size in bytes:  920\n",
      "Lenght:  67;  Size in bytes:  920\n",
      "Lenght:  66;  Size in bytes:  920\n",
      "Lenght:  65;  Size in bytes:  920\n",
      "Lenght:  64;  Size in bytes:  920\n",
      "Lenght:  63;  Size in bytes:  920\n",
      "Lenght:  62;  Size in bytes:  920\n",
      "Lenght:  61;  Size in bytes:  920\n",
      "Lenght:  60;  Size in bytes:  920\n",
      "Lenght:  59;  Size in bytes:  920\n",
      "Lenght:  58;  Size in bytes:  920\n",
      "Lenght:  57;  Size in bytes:  920\n",
      "Lenght:  56;  Size in bytes:  920\n",
      "Lenght:  55;  Size in bytes:  920\n",
      "Lenght:  54;  Size in bytes:  920\n",
      "Lenght:  53;  Size in bytes:  568\n",
      "Lenght:  52;  Size in bytes:  568\n",
      "Lenght:  51;  Size in bytes:  568\n",
      "Lenght:  50;  Size in bytes:  568\n",
      "Lenght:  49;  Size in bytes:  568\n",
      "Lenght:  48;  Size in bytes:  568\n",
      "Lenght:  47;  Size in bytes:  568\n",
      "Lenght:  46;  Size in bytes:  568\n",
      "Lenght:  45;  Size in bytes:  568\n",
      "Lenght:  44;  Size in bytes:  568\n",
      "Lenght:  43;  Size in bytes:  568\n",
      "Lenght:  42;  Size in bytes:  568\n",
      "Lenght:  41;  Size in bytes:  568\n",
      "Lenght:  40;  Size in bytes:  568\n",
      "Lenght:  39;  Size in bytes:  568\n",
      "Lenght:  38;  Size in bytes:  568\n",
      "Lenght:  37;  Size in bytes:  568\n",
      "Lenght:  36;  Size in bytes:  568\n",
      "Lenght:  35;  Size in bytes:  568\n",
      "Lenght:  34;  Size in bytes:  568\n",
      "Lenght:  33;  Size in bytes:  568\n",
      "Lenght:  32;  Size in bytes:  568\n",
      "Lenght:  31;  Size in bytes:  376\n",
      "Lenght:  30;  Size in bytes:  376\n",
      "Lenght:  29;  Size in bytes:  376\n",
      "Lenght:  28;  Size in bytes:  376\n",
      "Lenght:  27;  Size in bytes:  376\n",
      "Lenght:  26;  Size in bytes:  376\n",
      "Lenght:  25;  Size in bytes:  376\n",
      "Lenght:  24;  Size in bytes:  376\n",
      "Lenght:  23;  Size in bytes:  376\n",
      "Lenght:  22;  Size in bytes:  376\n",
      "Lenght:  21;  Size in bytes:  376\n",
      "Lenght:  20;  Size in bytes:  376\n",
      "Lenght:  19;  Size in bytes:  248\n",
      "Lenght:  18;  Size in bytes:  248\n",
      "Lenght:  17;  Size in bytes:  248\n",
      "Lenght:  16;  Size in bytes:  248\n",
      "Lenght:  15;  Size in bytes:  248\n",
      "Lenght:  14;  Size in bytes:  248\n",
      "Lenght:  13;  Size in bytes:  248\n",
      "Lenght:  12;  Size in bytes:  248\n",
      "Lenght:  11;  Size in bytes:  184\n",
      "Lenght:  10;  Size in bytes:  184\n",
      "Lenght:   9;  Size in bytes:  184\n",
      "Lenght:   8;  Size in bytes:  184\n",
      "Lenght:   7;  Size in bytes:  152\n",
      "Lenght:   6;  Size in bytes:  152\n",
      "Lenght:   5;  Size in bytes:  120\n",
      "Lenght:   4;  Size in bytes:  120\n",
      "Lenght:   3;  Size in bytes:  120\n",
      "Lenght:   2;  Size in bytes:  120\n",
      "Lenght:   1;  Size in bytes:   88\n",
      "Lenght:   0;  Size in bytes:   56\n"
     ]
    }
   ],
   "source": [
    "quitar = pd.DataFrame()\n",
    "quitar[\"Lenght\"] = None\n",
    "quitar[\"Size\"] = None\n",
    "\n",
    "lenght_q = []\n",
    "size_q = []\n",
    "import sys\n",
    "n = 100\n",
    "data = [None for k in range(n)]\n",
    "for k in range(n):\n",
    "    data.pop(-1)\n",
    "    a = len(data)\n",
    "    lenght_q.append(a)\n",
    "    b = sys.getsizeof(data)\n",
    "    size_q.append(b)\n",
    "\n",
    "    print( \"Lenght: {0:3d};  Size in bytes: {1:4d}\".format(a,b))\n",
    "\n",
    "\n",
    "\n",
    "quitar[\"Lenght\"] = lenght_q\n",
    "quitar[\"Size\"] = size_q"
   ]
  },
  {
   "cell_type": "code",
   "execution_count": 82,
   "metadata": {},
   "outputs": [
    {
     "data": {
      "text/plain": [
       "Text(0, 0.5, 'Tamaño en memoria')"
      ]
     },
     "execution_count": 82,
     "metadata": {},
     "output_type": "execute_result"
    },
    {
     "data": {
      "image/png": "[encoded data removed]",
      "text/plain": [
       "<Figure size 640x480 with 1 Axes>"
      ]
     },
     "metadata": {},
     "output_type": "display_data"
    }
   ],
   "source": [
    "plt.style.use(\"bmh\") \n",
    "\n",
    "\n",
    "ejex = agregar[\"Lenght\"]\n",
    "ejey = agregar[\"Size\"]\n",
    "\n",
    "ejex_q = quitar[\"Lenght\"]\n",
    "ejey_q = quitar[\"Size\"]\n",
    "\n",
    "fig, ax = plt.subplots()\n",
    "ax.step(ejex, ejey, color = \"blue\", )\n",
    "ax.step(ejex_q, ejey_q, color = \"#990000\")\n",
    "\n",
    "plt.title(\"Tamaño en memoria por cantidad de datos\")\n",
    "plt.xlabel(\"Largo\")\n",
    "plt.ylabel(\"Tamaño en memoria\")\n",
    "\n",
    "\n",
    "#plt.plot(ejex_q, ejey_q, color = \"#990000\", label = \"Quitar\")"
   ]
  },
  {
   "cell_type": "code",
   "execution_count": null,
   "metadata": {},
   "outputs": [],
   "source": []
  }
 ],
 "metadata": {
  "kernelspec": {
   "display_name": "Python 3.9.13 ('base')",
   "language": "python",
   "name": "python3"
  },
  "language_info": {
   "codemirror_mode": {
    "name": "ipython",
    "version": 3
   },
   "file_extension": ".py",
   "mimetype": "text/x-python",
   "name": "python",
   "nbconvert_exporter": "python",
   "pygments_lexer": "ipython3",
   "version": "3.9.13"
  },
  "orig_nbformat": 4,
  "vscode": {
   "interpreter": {
    "hash": "40d3a090f54c6569ab1632332b64b2c03c39dcf918b08424e98f38b5ae0af88f"
   }
  }
 },
 "nbformat": 4,
 "nbformat_minor": 2
}
