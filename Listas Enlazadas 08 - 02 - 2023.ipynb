{
 "cells": [
  {
   "cell_type": "markdown",
   "metadata": {},
   "source": [
    "### Miguel Santiago Feles Gómez\n",
    "### 08 - 02 - 2023 \n",
    "### lISTAS Enlazadas"
   ]
  },
  {
   "cell_type": "code",
   "execution_count": 2,
   "metadata": {},
   "outputs": [],
   "source": [
    "class Empty(Exception):\n",
    "    pass\n",
    "class LinkedStack:\n",
    "\t\"\"\"LIFO Stack implementation using a singly linked list for storage\"\"\"\n",
    "\n",
    "\tclass _Node:\n",
    "\t\t\"\"\"Lightweight, nonpublic class for storing a singly linked node\"\"\"\n",
    "\t\t__slots__ = \"_element\", \"_next\"\n",
    "\n",
    "\t\tdef __init__(self, element, next):\n",
    "\t\t\tself._element = element\n",
    "\t\t\tself._next = next\n",
    "\n",
    "\tdef __init__(self):\n",
    "\t\tself._head = None\n",
    "\t\tself._size = 0\n",
    "\n",
    "\tdef __len__(self):\n",
    "\t\treturn self._size\n",
    "\n",
    "\tdef is_empty(self):\n",
    "\t\treturn self._size == 0\n",
    "\n",
    "\tdef push(self, e):\n",
    "\t\t\"\"\"Add element e to the top of the stack\"\"\"\n",
    "\t\tself._head = self._Node(e, self._head)\n",
    "\t\tself._size += 1\n",
    "\n",
    "\tdef top(self):\n",
    "\t\t\"\"\"Return the element at top of stack. Raise Empty Exception if satck empty\"\"\"\n",
    "\t\tif self.is_empty():\n",
    "\t\t\traise Empty('Stack is empty')\n",
    "\t\treturn self._head._element\n",
    "\n",
    "\tdef pop(self):\n",
    "\t\t\"\"\"Remove and return the element from teh top of the stack (i.e. LIFO)\"\"\"\n",
    "\t\tif self.is_empty():\n",
    "\t\t\traise Empty('Stack is empty')\n",
    "\t\telem = self._head._element\n",
    "\t\tself._head = self._head._next\n",
    "\t\tself._size -= 1\n",
    "\t\treturn elem\n"
   ]
  },
  {
   "cell_type": "code",
   "execution_count": 3,
   "metadata": {},
   "outputs": [],
   "source": [
    "# Ejercicio 1\n",
    "lista = LinkedStack()\n",
    "for i in range(1, 10):\n",
    "    lista.push(i)\n",
    "\n",
    "\n"
   ]
  },
  {
   "cell_type": "code",
   "execution_count": 14,
   "metadata": {},
   "outputs": [],
   "source": [
    "def print_list(lista):\n",
    "    cuerpo = lista._head\n",
    "    for i in range(0, lista.__len__()):\n",
    "        print(cuerpo._element)\n",
    "        cuerpo = cuerpo._next\n",
    "\n"
   ]
  },
  {
   "cell_type": "code",
   "execution_count": 15,
   "metadata": {},
   "outputs": [
    {
     "name": "stdout",
     "output_type": "stream",
     "text": [
      "1\n",
      "2\n",
      "3\n",
      "4\n",
      "5\n",
      "6\n",
      "7\n",
      "8\n",
      "9\n"
     ]
    }
   ],
   "source": [
    "# Ejercicio 2\n",
    "def reverse(lista):\n",
    "    lista_reversed = LinkedStack()\n",
    "    cuerpo = lista._head\n",
    "    for i in range(0, lista.__len__()):\n",
    "        lista_reversed.push(cuerpo._element)\n",
    "        cuerpo = cuerpo._next\n",
    "\n",
    "    return lista_reversed\n",
    "\n",
    "reversa = reverse(lista)\n",
    "print_list(reversa)"
   ]
  },
  {
   "cell_type": "code",
   "execution_count": 32,
   "metadata": {},
   "outputs": [
    {
     "name": "stdout",
     "output_type": "stream",
     "text": [
      "0\n",
      "1\n",
      "2\n",
      "3\n",
      "4\n",
      "5\n",
      "6\n",
      "7\n",
      "1099\n"
     ]
    }
   ],
   "source": [
    "listaa = LinkedStack()\n",
    "\n",
    "listaa.push(0)\n",
    "listaa.push(1)\n",
    "listaa.push(1)\n",
    "listaa.push(1)\n",
    "listaa.push(2)\n",
    "listaa.push(3)\n",
    "listaa.push(3)\n",
    "listaa.push(4)\n",
    "listaa.push(4)\n",
    "listaa.push(5)\n",
    "listaa.push(6)\n",
    "listaa.push(6)\n",
    "listaa.push(7)\n",
    "listaa.push(1099)\n",
    "listaa.push(1099)\n",
    "\n",
    "def consecutivos(listaa):\n",
    "    cuerpo = listaa._head\n",
    "    lista_ret = LinkedStack()\n",
    "    for i in range(0,listaa.__len__()-1):\n",
    "        if cuerpo._element == cuerpo._next._element:\n",
    "            cuerpo = cuerpo._next\n",
    "            continue\n",
    "        lista_ret.push(cuerpo._element)\n",
    "        cuerpo = cuerpo._next\n",
    "    lista_ret.push(cuerpo._element)\n",
    "    return lista_ret\n",
    "print_list(consecutivos(listaa))\n",
    "        "
   ]
  },
  {
   "cell_type": "code",
   "execution_count": null,
   "metadata": {},
   "outputs": [],
   "source": []
  }
 ],
 "metadata": {
  "kernelspec": {
   "display_name": "Python 3.9.13 ('base')",
   "language": "python",
   "name": "python3"
  },
  "language_info": {
   "codemirror_mode": {
    "name": "ipython",
    "version": 3
   },
   "file_extension": ".py",
   "mimetype": "text/x-python",
   "name": "python",
   "nbconvert_exporter": "python",
   "pygments_lexer": "ipython3",
   "version": "3.9.13"
  },
  "orig_nbformat": 4,
  "vscode": {
   "interpreter": {
    "hash": "40d3a090f54c6569ab1632332b64b2c03c39dcf918b08424e98f38b5ae0af88f"
   }
  }
 },
 "nbformat": 4,
 "nbformat_minor": 2
}
