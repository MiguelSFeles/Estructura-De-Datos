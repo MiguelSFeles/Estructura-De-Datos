{
 "cells": [
  {
   "cell_type": "markdown",
   "metadata": {},
   "source": [
    "### Miguel Santiago Feles Gómez\n",
    "### 08 - 02 - 2023 \n",
    "### lISTAS Enlazadas"
   ]
  },
  {
   "cell_type": "code",
   "execution_count": 2,
   "metadata": {},
   "outputs": [],
   "source": [
    "class Empty(Exception):\n",
    "    pass\n",
    "class LinkedStack:\n",
    "\t\"\"\"LIFO Stack implementation using a singly linked list for storage\"\"\"\n",
    "\n",
    "\tclass _Node:\n",
    "\t\t\"\"\"Lightweight, nonpublic class for storing a singly linked node\"\"\"\n",
    "\t\t__slots__ = \"_element\", \"_next\"\n",
    "\n",
    "\t\tdef __init__(self, element, next):\n",
    "\t\t\tself._element = element #Valor de la cabeza de la lista\n",
    "\t\t\tself._next = next\n",
    "\n",
    "\tdef __init__(self):\n",
    "\t\tself._head = None\n",
    "\t\tself._size = 0\n",
    "\n",
    "\tdef __len__(self):\n",
    "\t\treturn self._size\n",
    "\n",
    "\tdef is_empty(self):\n",
    "\t\treturn self._size == 0\n",
    "\n",
    "\tdef push(self, e):\n",
    "\t\t\"\"\"Add element e to the top of the stack\"\"\"\n",
    "\t\tself._head = self._Node(e, self._head)\n",
    "\t\tself._size += 1\n",
    "\n",
    "\tdef top(self):\n",
    "\t\t\"\"\"Return the element at top of stack. Raise Empty Exception if satck empty\"\"\"\n",
    "\t\tif self.is_empty():\n",
    "\t\t\traise Empty('Stack is empty')\n",
    "\t\treturn self._head._element\n",
    "\n",
    "\tdef pop(self):\n",
    "\t\t\"\"\"Remove and return the element from teh top of the stack (i.e. LIFO)\"\"\"\n",
    "\t\tif self.is_empty():\n",
    "\t\t\traise Empty('Stack is empty')\n",
    "\t\telem = self._head._element\n",
    "\t\tself._head = self._head._next\n",
    "\t\tself._size -= 1\n",
    "\t\treturn elem\n"
   ]
  },
  {
   "cell_type": "code",
   "execution_count": 3,
   "metadata": {},
   "outputs": [],
   "source": [
    "# Ejercicio 1 - Agrega valores a una lista enlazada\n",
    "lista = LinkedStack()\n",
    "for i in range(1, 10):\n",
    "    lista.push(i)"
   ]
  },
  {
   "cell_type": "code",
   "execution_count": 9,
   "metadata": {},
   "outputs": [
    {
     "name": "stdout",
     "output_type": "stream",
     "text": [
      "9,8,7,6,5,4,3,2,1\n"
     ]
    }
   ],
   "source": [
    "# Ejercicio 2 - Imprime una lista enlaza\n",
    "def print_list(lista):\n",
    "\n",
    "     #En mi código la variable cuerpo es la misma walk que usa el profesor.\n",
    "     \n",
    "    cuerpo = lista._head #Es el contenido de la lista como clase Nodo en el caso incial es [9]->[8]->[7]->[6]->[5]->[4]->[3]->[2]->[1]\n",
    "    for i in range(0, lista.__len__() - 1): #Va a recorrer toda la lista enlaza excepto el último valor ya que ese va al final\n",
    "        print(cuerpo._element, end=\",\") #Imprime el primer valor de la cabeza o sea [9]\n",
    "        cuerpo = cuerpo._next # Toma los valores de la lista enlazada sin la cabeza es decir [8]->[7]->[6]->[5]->[4]->[3]->[2]->[1]\n",
    "\n",
    "    print(cuerpo._element) #Luego de que se hace todo el ciclo imprime el vlaor restante [1]\n",
    "\n",
    "print_list(lista)\n",
    "\n"
   ]
  },
  {
   "cell_type": "code",
   "execution_count": 10,
   "metadata": {},
   "outputs": [
    {
     "name": "stdout",
     "output_type": "stream",
     "text": [
      "1,2,3,4,5,6,7,8,9\n"
     ]
    }
   ],
   "source": [
    "# Ejercicio 2 imprime una lista con los valores hacia atrás\n",
    "def reverse(lista):\n",
    "    lista_reversed = LinkedStack() #Creo una nueva lista enlazada\n",
    "    cuerpo = lista._head #Tomo los valores de la lista inicial como clase Nodo\n",
    "\n",
    "    for i in range(0, lista.__len__()):\n",
    "        lista_reversed.push(cuerpo._element) #A la lista en reversa le agrego el valor de la cabeza de la lista inicial\n",
    "        # algo así lista en reversa = [9] lista inicial = [8]->[7]->[6]->[5]->[4]->[3]->[2]->[1]\n",
    "        #          lista en reversa = [9] -> [8] lista inicial [7]->[6]->[5]->[4]->[3]->[2]->[1]\n",
    "        #          Así sucesivamente\n",
    "\n",
    "        cuerpo = cuerpo._next # Para ir recorriendo [9]->[8]->[7]->[6]->[5]->[4]->[3]->[2]->[1]\n",
    "                              #                     [8]->[7]->[6]->[5]->[4]->[3]->[2]->[1] \n",
    "\n",
    "\n",
    "    return lista_reversed\n",
    "\n",
    "reversa = reverse(lista)\n",
    "print_list(reversa)"
   ]
  },
  {
   "cell_type": "code",
   "execution_count": 32,
   "metadata": {},
   "outputs": [
    {
     "name": "stdout",
     "output_type": "stream",
     "text": [
      "0\n",
      "1\n",
      "2\n",
      "3\n",
      "4\n",
      "5\n",
      "6\n",
      "7\n",
      "1099\n"
     ]
    }
   ],
   "source": [
    "listaa = LinkedStack()\n",
    "\n",
    "listaa.push(0)\n",
    "listaa.push(1)\n",
    "listaa.push(1)\n",
    "listaa.push(1)\n",
    "listaa.push(2)\n",
    "listaa.push(3)\n",
    "listaa.push(3)\n",
    "listaa.push(4)\n",
    "listaa.push(4)\n",
    "listaa.push(5)\n",
    "listaa.push(6)\n",
    "listaa.push(6)\n",
    "listaa.push(7)\n",
    "listaa.push(1099)\n",
    "listaa.push(1099)\n",
    "\n",
    "def consecutivos(listaa):\n",
    "\n",
    "    \"\"\" Si encuentra en una lista enlazada números consecutivos los eliminas\n",
    "    \"\"\"\n",
    "    cuerpo = listaa._head # Toma LA lista inicial como clase Nodo\n",
    "    lista_ret = LinkedStack() # Crea una nueva lista\n",
    "\n",
    "    for i in range(0,listaa.__len__()-1): #Para recorrer toda la lista inicial\n",
    "        if cuerpo._element == cuerpo._next._element: #Si el elemento primer elemento de la cabeza es igual al primer elemento del resto\n",
    "            cuerpo = cuerpo._next # Va a tomar el siguiente\n",
    "            continue #Este se usa para saltarse el resto del código y repetir el ciclo\n",
    "\n",
    "        lista_ret.push(cuerpo._element) #Si no se cumple la condición agrega a la lista enlazada el primer elemento de la lista inicial\n",
    "        cuerpo = cuerpo._next #Pasa a la siguiente parte de la lista inicial\n",
    "\n",
    "    lista_ret.push(cuerpo._element) # Este es para el último elemento\n",
    "    return lista_ret\n",
    "print_list(consecutivos(listaa))\n",
    "        "
   ]
  },
  {
   "cell_type": "code",
   "execution_count": null,
   "metadata": {},
   "outputs": [],
   "source": []
  }
 ],
 "metadata": {
  "kernelspec": {
   "display_name": "Python 3.9.13 ('base')",
   "language": "python",
   "name": "python3"
  },
  "language_info": {
   "codemirror_mode": {
    "name": "ipython",
    "version": 3
   },
   "file_extension": ".py",
   "mimetype": "text/x-python",
   "name": "python",
   "nbconvert_exporter": "python",
   "pygments_lexer": "ipython3",
   "version": "3.9.13"
  },
  "orig_nbformat": 4,
  "vscode": {
   "interpreter": {
    "hash": "40d3a090f54c6569ab1632332b64b2c03c39dcf918b08424e98f38b5ae0af88f"
   }
  }
 },
 "nbformat": 4,
 "nbformat_minor": 2
}
