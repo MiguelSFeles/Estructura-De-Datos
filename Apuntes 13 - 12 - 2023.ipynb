{
 "cells": [
  {
   "cell_type": "code",
   "execution_count": 2,
   "metadata": {},
   "outputs": [],
   "source": [
    "class Empty(Exception):\n",
    "    pass\n",
    "class LinkedQueue:\n",
    "\t\"\"\"FIFO Queue implementation using a singly linked list for storage\"\"\"\n",
    "\tclass _Node:\n",
    "\t\tdef __init__(self, element, next):\n",
    "\t\t\tself._element = element\n",
    "\t\t\tself._next = next\n",
    "\n",
    "\tdef __init__(self):\n",
    "\t\tself._head = None\n",
    "\t\tself._tail = None\n",
    "\t\tself._size = 0\n",
    "\n",
    "\tdef __len__(self):\n",
    "\t\treturn self._size\n",
    "\n",
    "\tdef is_empty(self):\n",
    "\t\treturn self._size == 0\n",
    "\n",
    "\tdef first(self):\n",
    "\t\tif self.is_empty():\n",
    "\t\t\traise Empty('Queue is empty')\n",
    "\t\treturn self._head._element\n",
    "\n",
    "\tdef dequeue(self):\n",
    "\t\tif self.is_empty():\n",
    "\t\t\traise Empty('Queue is empty')\n",
    "\t\telem = self.first()\n",
    "\t\tself._size -=1\n",
    "\t\tself._head = self._head._next\n",
    "\t\tif self.is_empty():\n",
    "\t\t\tself._tail = None\n",
    "\t\treturn elem\n",
    "\n",
    "\tdef enqueue(self, e):\n",
    "\t\tnewest = self._Node(e, None)\n",
    "\t\tif self.is_empty():\n",
    "\t\t\tself._head = newest\n",
    "\t\telse:\n",
    "\t\t\tself._tail._next = newest\n",
    "\t\tself._tail = newest\n",
    "\t\tself._size += 1"
   ]
  },
  {
   "cell_type": "code",
   "execution_count": 3,
   "metadata": {},
   "outputs": [],
   "source": [
    "def imprimir(self):\n",
    "    walk = self._head\n",
    "    while walk != None:\n",
    "        print(walk._element, end=\",\")\n",
    "        walk = walk._next\n",
    "\n",
    "#Esta instrucción permite que mi método quede dentro de la clase\n",
    "LinkedQueue.imprimir = imprimir"
   ]
  },
  {
   "cell_type": "code",
   "execution_count": 4,
   "metadata": {},
   "outputs": [
    {
     "name": "stdout",
     "output_type": "stream",
     "text": [
      "2\n",
      "6\n",
      "8\n",
      "2,6,8,"
     ]
    }
   ],
   "source": [
    "l = LinkedQueue()\n",
    "l.enqueue(2), l.enqueue(4), l.enqueue(6), l.enqueue(8)\n",
    "\n",
    "def Eliminar_pos(self, k): #Eliminia el elemento k-ésimo de self\n",
    "    cuerpo = self._head\n",
    "    self = LinkedQueue()\n",
    "    while True:\n",
    "        k -= 1\n",
    "        print(cuerpo._element)\n",
    "        self.enqueue(cuerpo._element)\n",
    "        if cuerpo._next == None:\n",
    "            break\n",
    "        if k == 1:\n",
    "            cuerpo = cuerpo._next\n",
    "        cuerpo = cuerpo._next\n",
    "    return self\n",
    "    \n",
    "\n",
    "LinkedQueue.Eliminar_pos = Eliminar_pos\n",
    "l.Eliminar_pos(2).imprimir()\n"
   ]
  },
  {
   "cell_type": "code",
   "execution_count": 58,
   "metadata": {},
   "outputs": [
    {
     "name": "stdout",
     "output_type": "stream",
     "text": [
      "2,6,8,"
     ]
    }
   ],
   "source": [
    "l = LinkedQueue()\n",
    "l.enqueue(2), l.enqueue(4), l.enqueue(6), l.enqueue(8)\n",
    "\n",
    "def Eliminar_pos(self, k): #Eliminia el elemento k-ésimo de self\n",
    "    cuerpo = self._head\n",
    "    if k == 1:\n",
    "        self.dequeue() #Elimina el primero en dado caso que k sea = 1\n",
    "        return\n",
    "\n",
    "    while cuerpo != None:\n",
    "        k -= 1\n",
    "        if k == 1:\n",
    "            cuerpo._next = cuerpo._next._next #En el resto de los casos cuando k de entreada es > 1 va buscando la posición y si la encuentra la omita\n",
    "\n",
    "        cuerpo = cuerpo._next\n",
    "\n",
    "\n",
    "LinkedQueue.Eliminar_pos = Eliminar_pos\n",
    "l.Eliminar_pos(2)\n",
    "l.imprimir()"
   ]
  },
  {
   "cell_type": "code",
   "execution_count": null,
   "metadata": {},
   "outputs": [],
   "source": []
  }
 ],
 "metadata": {
  "kernelspec": {
   "display_name": "Python 3.9.13 ('base')",
   "language": "python",
   "name": "python3"
  },
  "language_info": {
   "codemirror_mode": {
    "name": "ipython",
    "version": 3
   },
   "file_extension": ".py",
   "mimetype": "text/x-python",
   "name": "python",
   "nbconvert_exporter": "python",
   "pygments_lexer": "ipython3",
   "version": "3.9.13"
  },
  "orig_nbformat": 4,
  "vscode": {
   "interpreter": {
    "hash": "40d3a090f54c6569ab1632332b64b2c03c39dcf918b08424e98f38b5ae0af88f"
   }
  }
 },
 "nbformat": 4,
 "nbformat_minor": 2
}
