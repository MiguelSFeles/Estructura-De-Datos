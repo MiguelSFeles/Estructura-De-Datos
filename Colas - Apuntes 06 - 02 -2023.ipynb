{
 "cells": [
  {
   "cell_type": "markdown",
   "metadata": {},
   "source": [
    "### Apuntes 06 - 02 - 2023\n",
    "### Miguel Feles\n",
    "### Estructura de Datos\n",
    "### Colas"
   ]
  },
  {
   "cell_type": "code",
   "execution_count": 22,
   "metadata": {},
   "outputs": [],
   "source": [
    "class Empty(Exception):\n",
    "    pass\n",
    "\n",
    "class ArrayQueue: \n",
    "    \"\"\" FIFO queue implementation using a Python list as underlying storage.\"\"\" \n",
    "    DEFAULT_CAPACITY = 10 # moderate capacity for all new queues \n",
    "\n",
    "    def __init__(self): \n",
    "        \"\"\" Create an empty queue.\"\"\" \n",
    "        self._data = [None] * ArrayQueue.DEFAULT_CAPACITY \n",
    "        self._size = 0 \n",
    "        self._front = 0 \n",
    "\n",
    "\n",
    "    def __len__(self): \n",
    "        \"\"\"Return the number of elements in the queue.\"\"\"\n",
    "        return self._size \n",
    "\n",
    "\n",
    "    def is_empty(self): \n",
    "        \"\"\" Return True if the queue is empty.\"\"\" \n",
    "        return self._size == 0\n",
    "\n",
    "\n",
    "    def first(self): \n",
    "        \"\"\"Return (but do not remove) the element at the front of the queue. \n",
    "        Raise Empty exception if the queue is empty.\"\"\"\n",
    "        if self == []: \n",
    "            raise Empty('Queue is empty') \n",
    "        return self._data[self._front] \n",
    "\n",
    "\n",
    "    def dequeue(self): \n",
    "        \"\"\"Remove and return the first element of the queue (i.e., FIFO). \n",
    "        Raise Empty exception if the queue is empty. \"\"\"\n",
    "        if self.is_empty(): \n",
    "            raise Empty('Queue is empty') \n",
    "        answer = self._data[self._front] \n",
    "        self._data[self._front] = None # help garbage collection \n",
    "        self._front = (self._front + 1) % len(self._data) \n",
    "        self._size -= 1 \n",
    "        return answer \n",
    "\n",
    "    def enqueue(self, e): \n",
    "        \"\"\" Add an element to the back of queue.\"\"\"\n",
    "        if self._size == len(self._data): \n",
    "            self._resize(2 * len(self.data)) # double the array size \n",
    "        avail = (self._front + self._size) % len(self._data) \n",
    "        self._data[avail] = e \n",
    "        self._size += 1 \n",
    "    \n",
    "    def _resize(self, cap): #£ we assume cap >= len(self) \n",
    "        \"\"\" Resize to a new list of capacity >= len(self).\"\"\"\n",
    "        old = self._data # keep track of existing list \n",
    "        self._data = [None] * cap # allocate list with new capacity \n",
    "        walk = self._front \n",
    "        for k in range(self._size): # only consider existing elements \n",
    "            self._data[k] = old[walk] # intentionally shift indices \n",
    "            walk = (1 + walk) % len(old) # use old size as modulus \n",
    "        self._front = 0 # front has been realigned "
   ]
  },
  {
   "cell_type": "code",
   "execution_count": 23,
   "metadata": {},
   "outputs": [
    {
     "data": {
      "text/plain": [
       "2"
      ]
     },
     "execution_count": 23,
     "metadata": {},
     "output_type": "execute_result"
    }
   ],
   "source": [
    "hola = ArrayQueue()\n",
    "hola.enqueue(2)\n",
    "hola.first()"
   ]
  },
  {
   "cell_type": "code",
   "execution_count": 25,
   "metadata": {},
   "outputs": [
    {
     "data": {
      "text/plain": [
       "2"
      ]
     },
     "execution_count": 25,
     "metadata": {},
     "output_type": "execute_result"
    }
   ],
   "source": [
    "2%5"
   ]
  },
  {
   "cell_type": "markdown",
   "metadata": {},
   "source": [
    "(1+2) % 5"
   ]
  },
  {
   "cell_type": "code",
   "execution_count": 28,
   "metadata": {},
   "outputs": [
    {
     "data": {
      "text/plain": [
       "2"
      ]
     },
     "execution_count": 28,
     "metadata": {},
     "output_type": "execute_result"
    }
   ],
   "source": [
    "(7)%5"
   ]
  },
  {
   "cell_type": "code",
   "execution_count": null,
   "metadata": {},
   "outputs": [],
   "source": []
  }
 ],
 "metadata": {
  "kernelspec": {
   "display_name": "Python 3.9.13 ('base')",
   "language": "python",
   "name": "python3"
  },
  "language_info": {
   "codemirror_mode": {
    "name": "ipython",
    "version": 3
   },
   "file_extension": ".py",
   "mimetype": "text/x-python",
   "name": "python",
   "nbconvert_exporter": "python",
   "pygments_lexer": "ipython3",
   "version": "3.9.13"
  },
  "orig_nbformat": 4,
  "vscode": {
   "interpreter": {
    "hash": "40d3a090f54c6569ab1632332b64b2c03c39dcf918b08424e98f38b5ae0af88f"
   }
  }
 },
 "nbformat": 4,
 "nbformat_minor": 2
}
