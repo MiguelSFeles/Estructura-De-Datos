{
 "cells": [
  {
   "cell_type": "markdown",
   "metadata": {},
   "source": [
    "### Miguel Santiago Feles Gómez\n",
    "### Listas Enlazadas\n",
    "### Laboratorio 07 - Bubble sort"
   ]
  },
  {
   "cell_type": "code",
   "execution_count": 1,
   "metadata": {},
   "outputs": [],
   "source": [
    "class LinkedStack:\n",
    "\t\"\"\"LIFO Stack implementation using a singly linked list for storage\"\"\"\n",
    "\n",
    "\tclass _Node:\n",
    "\t\t\"\"\"Lightweight, nonpublic class for storing a singly linked node\"\"\"\n",
    "\t\t__slots__ = \"_element\", \"_next\"\n",
    "\n",
    "\t\tdef __init__(self, element, next):\n",
    "\t\t\tself._element = element\n",
    "\t\t\tself._next = next\n",
    "\n",
    "\tdef __init__(self):\n",
    "\t\tself._head = None\n",
    "\t\tself._size = 0\n",
    "\n",
    "\tdef __len__(self):\n",
    "\t\treturn self._size\n",
    "\n",
    "\tdef is_empty(self):\n",
    "\t\treturn self._size == 0\n",
    "\n",
    "\tdef push(self, e):\n",
    "\t\t\"\"\"Add element e to the top of the stack\"\"\"\n",
    "\t\tself._head = self._Node(e, self._head)\n",
    "\t\tself._size += 1\n",
    "\n",
    "\tdef top(self):\n",
    "\t\t\"\"\"Return the element at top of stack. Raise Empty Exception if satck empty\"\"\"\n",
    "\t\tif self.is_empty():\n",
    "\t\t\traise Empty('Stack is empty')\n",
    "\t\treturn self._head._element\n",
    "\n",
    "\tdef pop(self):\n",
    "\t\t\"\"\"Remove and return the element from teh top of the stack (i.e. LIFO)\"\"\"\n",
    "\t\tif self.is_empty():\n",
    "\t\t\traise Empty('Stack is empty')\n",
    "\t\telem = self._head._element\n",
    "\t\tself._head = self._head._next\n",
    "\t\tself._size -= 1\n",
    "\t\treturn elem\n",
    "\tdef imprimir(self):\n",
    "\t\twalk = self._head\n",
    "\t\tfor i in range(len(self)):\n",
    "\t\t\tprint(walk._element)\n",
    "\t\t\twalk = walk._next\n"
   ]
  },
  {
   "cell_type": "code",
   "execution_count": 5,
   "metadata": {},
   "outputs": [
    {
     "name": "stdout",
     "output_type": "stream",
     "text": [
      "92\n",
      "64\n",
      "21\n",
      "39\n",
      "50\n",
      "16\n",
      "62\n",
      "18\n",
      "52\n",
      "88\n",
      "lista ordeada:\n",
      "16\n",
      "18\n",
      "21\n",
      "39\n",
      "50\n",
      "52\n",
      "62\n",
      "64\n",
      "88\n",
      "92\n"
     ]
    }
   ],
   "source": [
    "def bubble_sort(lista):\n",
    "\n",
    "    cuerpo = lista._head\n",
    "\n",
    "\n",
    "    for i in range(len(lista)): #Recorre el conjunto grande las veces necesaria n\n",
    "        cuerpo = lista._head\n",
    "        for i in range(len(lista)-1): #Recorre cada item de la lista enlazada\n",
    "            if cuerpo._element > cuerpo._next._element:\n",
    "                cuerpo._element, cuerpo._next._element = cuerpo._next._element, cuerpo._element \n",
    "            cuerpo = cuerpo._next\n",
    "        \n",
    "    print(\"lista ordeada:\")\n",
    "    return lista.imprimir()\n",
    "\n",
    "import random\n",
    "random_integers = [random.randint(1, 100) for i in range(10)]\n",
    "l = LinkedStack()\n",
    "for i in random_integers: l.push(i)\n",
    "l.imprimir()\n",
    "bubble_sort(l)\n",
    "\n"
   ]
  },
  {
   "cell_type": "code",
   "execution_count": null,
   "metadata": {},
   "outputs": [],
   "source": []
  }
 ],
 "metadata": {
  "kernelspec": {
   "display_name": "Python 3.9.13 ('base')",
   "language": "python",
   "name": "python3"
  },
  "language_info": {
   "codemirror_mode": {
    "name": "ipython",
    "version": 3
   },
   "file_extension": ".py",
   "mimetype": "text/x-python",
   "name": "python",
   "nbconvert_exporter": "python",
   "pygments_lexer": "ipython3",
   "version": "3.9.13"
  },
  "orig_nbformat": 4,
  "vscode": {
   "interpreter": {
    "hash": "40d3a090f54c6569ab1632332b64b2c03c39dcf918b08424e98f38b5ae0af88f"
   }
  }
 },
 "nbformat": 4,
 "nbformat_minor": 2
}
