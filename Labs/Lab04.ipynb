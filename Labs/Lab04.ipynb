{
 "cells": [
  {
   "cell_type": "code",
   "execution_count": 2,
   "metadata": {},
   "outputs": [
    {
     "name": "stdout",
     "output_type": "stream",
     "text": [
      "{'a', 'b', 'c'}\n",
      "{'a', 'b'}\n",
      "{'a'}\n",
      "{'b'}\n",
      "{'a', 'b'}\n",
      "{'b', 'c'}\n",
      "{'b'}\n",
      "{'c'}\n",
      "{'b', 'c'}\n",
      "{'a', 'c'}\n"
     ]
    }
   ],
   "source": [
    "conjunto = {\"a\",\"b\", \"c\"} #Aquí lo trabaje como conjuntos\n",
    "\n",
    "def con(conjunto):\n",
    "\n",
    "    def combin(conjunto):\n",
    "        lista = [ i for i in conjunto]\n",
    "    \n",
    "        if len(conjunto) == 1:\n",
    "            return([lista[0]])\n",
    "        return [lista] + combin({i for i in lista[0:-1]}) + combin({i for i in lista[1::]}) + [[lista[0], lista[-1]]]\n",
    "\n",
    "    for i in combin(conjunto):\n",
    "        print({x for x in i})\n",
    "\n",
    "con(conjunto)"
   ]
  },
  {
   "cell_type": "code",
   "execution_count": 3,
   "metadata": {},
   "outputs": [
    {
     "data": {
      "text/plain": [
       "[[], ['c'], ['b'], ['b', 'c'], ['a'], ['a', 'c'], ['a', 'b'], ['a', 'b', 'c']]"
      ]
     },
     "execution_count": 3,
     "metadata": {},
     "output_type": "execute_result"
    }
   ],
   "source": [
    "def sub_con(lista): #Aquí ya quedó bien\n",
    " \n",
    "    if lista == []: \n",
    "        return [[]]\n",
    "    nueva= sub_con(lista[1:])\n",
    "    return nueva + [[lista[0]] + i for i in nueva]\n",
    "\n",
    "sub_con([\"a\", \"b\", \"c\"])"
   ]
  },
  {
   "cell_type": "markdown",
   "metadata": {},
   "source": [
    "# - - - - - - - - - - - - - - - - - - - - - - - - - - - - - - - - - - - - - - - - - - - - - - - - -"
   ]
  },
  {
   "cell_type": "code",
   "execution_count": 140,
   "metadata": {},
   "outputs": [
    {
     "name": "stdout",
     "output_type": "stream",
     "text": [
      "[1, 9, 4]\n",
      "[9, 4]\n",
      "[4]\n",
      "[9, 4]\n",
      "Se va este 4\n",
      "[9]\n",
      "[1, 9, 4]\n",
      "Se va este 9\n",
      "[1, 4]\n"
     ]
    },
    {
     "data": {
      "text/plain": [
       "True"
      ]
     },
     "execution_count": 140,
     "metadata": {},
     "output_type": "execute_result"
    }
   ],
   "source": [
    "#Experimental\n",
    "\n",
    "lista = [1,9, 4]\n",
    "num = [14]\n",
    "\n",
    "def pair(lista, num):\n",
    "    print(lista)\n",
    "    if len(lista) == 1: \n",
    "        return False\n",
    "    if lista[0] + lista[1] == num:\n",
    "        return True\n",
    "    else:\n",
    "        x = pair(lista[1::], num)\n",
    "        print(lista)\n",
    "        print(\"Se va este\", lista.pop(1))\n",
    "        return  x or pair(lista,num)\n",
    "    \n",
    "    \n",
    "\n",
    "pair(lista, 5)"
   ]
  },
  {
   "cell_type": "code",
   "execution_count": 25,
   "metadata": {},
   "outputs": [
    {
     "data": {
      "text/plain": [
       "(0, 15)"
      ]
     },
     "execution_count": 25,
     "metadata": {},
     "output_type": "execute_result"
    }
   ],
   "source": [
    "#Experimental\n",
    "\n",
    "lista = [1,0, 4, 15,5]\n",
    "num = [15]\n",
    "\n",
    "def pair(lista, num):\n",
    "    if len(lista) == 1: \n",
    "        return \"No se hay pareja para dicho número\" and False\n",
    "    if lista[0] + lista[1] == num[0]: return (lista[0], lista[1])\n",
    "    else:\n",
    "        x = pair(lista[1::], num)\n",
    "        lista.remove(lista[1])\n",
    "        return  x or pair(lista,num) \n",
    "    \n",
    "    \n",
    "\n",
    "pair(lista, num)"
   ]
  }
 ],
 "metadata": {
  "kernelspec": {
   "display_name": "Python 3.9.13 ('base')",
   "language": "python",
   "name": "python3"
  },
  "language_info": {
   "codemirror_mode": {
    "name": "ipython",
    "version": 3
   },
   "file_extension": ".py",
   "mimetype": "text/x-python",
   "name": "python",
   "nbconvert_exporter": "python",
   "pygments_lexer": "ipython3",
   "version": "3.9.13"
  },
  "orig_nbformat": 4,
  "vscode": {
   "interpreter": {
    "hash": "40d3a090f54c6569ab1632332b64b2c03c39dcf918b08424e98f38b5ae0af88f"
   }
  }
 },
 "nbformat": 4,
 "nbformat_minor": 2
}
