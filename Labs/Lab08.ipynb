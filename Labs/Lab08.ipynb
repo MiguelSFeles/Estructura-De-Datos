{
 "cells": [
  {
   "cell_type": "markdown",
   "metadata": {},
   "source": [
    "## Miguel Santiago Feles Gómez\n",
    "## Laboratorio 08"
   ]
  },
  {
   "cell_type": "code",
   "execution_count": 2,
   "metadata": {},
   "outputs": [],
   "source": [
    "class Empty(Exception):\n",
    "    pass\n",
    "class LinkedQueue:\n",
    "\t\"\"\"FIFO Queue implementation using a singly linked list for storage\"\"\"\n",
    "\tclass _Node:\n",
    "\t\tdef __init__(self, element, next):\n",
    "\t\t\tself._element = element\n",
    "\t\t\tself._next = next\n",
    "\n",
    "\tdef __init__(self):\n",
    "\t\tself._head = None\n",
    "\t\tself._tail = None\n",
    "\t\tself._size = 0\n",
    "\n",
    "\tdef __len__(self):\n",
    "\t\treturn self._size\n",
    "\n",
    "\tdef is_empty(self):\n",
    "\t\treturn self._size == 0\n",
    "\n",
    "\tdef first(self):\n",
    "\t\tif self.is_empty():\n",
    "\t\t\traise Empty('Queue is empty')\n",
    "\t\treturn self._head._element\n",
    "\n",
    "\tdef dequeue(self):\n",
    "\t\tif self.is_empty():\n",
    "\t\t\traise Empty('Queue is empty')\n",
    "\t\telem = self.first()\n",
    "\t\tself._size -=1\n",
    "\t\tself._head = self._head._next\n",
    "\t\tif self.is_empty():\n",
    "\t\t\tself._tail = None\n",
    "\t\treturn elem\n",
    "\n",
    "\n",
    "\n",
    "\tdef enqueue(self, e):\n",
    "\t\tnewest = self._Node(e, None)\n",
    "\t\tif self.is_empty():\n",
    "\t\t\tself._head = newest\n",
    "\t\telse:\n",
    "\t\t\tself._tail._next = newest\n",
    "\t\tself._tail = newest\n",
    "\t\tself._size += 1\n",
    "\n",
    "\t"
   ]
  },
  {
   "cell_type": "code",
   "execution_count": 3,
   "metadata": {},
   "outputs": [],
   "source": [
    "def imprimir(self):\n",
    "    walk = self._head\n",
    "    while walk._next != None:\n",
    "        print(walk._element, end=\",\")\n",
    "        walk = walk._next\n",
    "    print(walk._element)\n",
    "    \n",
    "#Esta instrucción permite que mi método quede dentro de la clase\n",
    "LinkedQueue.imprimir = imprimir"
   ]
  },
  {
   "cell_type": "code",
   "execution_count": 4,
   "metadata": {},
   "outputs": [
    {
     "name": "stdout",
     "output_type": "stream",
     "text": [
      "2,4,6,8,1,3,5,7\n"
     ]
    }
   ],
   "source": [
    "l1, l2 = LinkedQueue(), LinkedQueue()\n",
    "l1.enqueue(2), l1.enqueue(4), l1.enqueue(6), l1.enqueue(8)\n",
    "l2.enqueue(1), l2.enqueue(3), l2.enqueue(5), l2.enqueue(7)\n",
    "\n",
    "\n",
    "def concatenate(self,l2):\n",
    "\tself._size += l2.__len__()# Ajusta el tamaño de l1 sumandole el tamaño de l2\n",
    "\tself._tail._next, l2._size, l2._head= l2._head, 0, Empty() # Encadena la cola de l1 con la cabeza de l2 luego deja l2 vacía y le quita el tamaño\n",
    "\t \n",
    "\n",
    "LinkedQueue.concatenate = concatenate\n",
    "l1.concatenate(l2)\n",
    "l1.imprimir()\n"
   ]
  },
  {
   "cell_type": "code",
   "execution_count": 5,
   "metadata": {},
   "outputs": [
    {
     "data": {
      "text/plain": [
       "True"
      ]
     },
     "execution_count": 5,
     "metadata": {},
     "output_type": "execute_result"
    }
   ],
   "source": [
    "l2.is_empty()"
   ]
  },
  {
   "cell_type": "code",
   "execution_count": 6,
   "metadata": {},
   "outputs": [
    {
     "ename": "AttributeError",
     "evalue": "'Empty' object has no attribute '_next'",
     "output_type": "error",
     "traceback": [
      "\u001b[0;31m---------------------------------------------------------------------------\u001b[0m",
      "\u001b[0;31mAttributeError\u001b[0m                            Traceback (most recent call last)",
      "\u001b[0;32m/var/folders/qh/5z05jrd51bj_b5b8cvk1q0gh0000gn/T/ipykernel_4378/1582449300.py\u001b[0m in \u001b[0;36m<module>\u001b[0;34m\u001b[0m\n\u001b[0;32m----> 1\u001b[0;31m \u001b[0ml2\u001b[0m\u001b[0;34m.\u001b[0m\u001b[0mimprimir\u001b[0m\u001b[0;34m(\u001b[0m\u001b[0;34m)\u001b[0m\u001b[0;34m\u001b[0m\u001b[0;34m\u001b[0m\u001b[0m\n\u001b[0m",
      "\u001b[0;32m/var/folders/qh/5z05jrd51bj_b5b8cvk1q0gh0000gn/T/ipykernel_4378/1711699346.py\u001b[0m in \u001b[0;36mimprimir\u001b[0;34m(self)\u001b[0m\n\u001b[1;32m      1\u001b[0m \u001b[0;32mdef\u001b[0m \u001b[0mimprimir\u001b[0m\u001b[0;34m(\u001b[0m\u001b[0mself\u001b[0m\u001b[0;34m)\u001b[0m\u001b[0;34m:\u001b[0m\u001b[0;34m\u001b[0m\u001b[0;34m\u001b[0m\u001b[0m\n\u001b[1;32m      2\u001b[0m     \u001b[0mwalk\u001b[0m \u001b[0;34m=\u001b[0m \u001b[0mself\u001b[0m\u001b[0;34m.\u001b[0m\u001b[0m_head\u001b[0m\u001b[0;34m\u001b[0m\u001b[0;34m\u001b[0m\u001b[0m\n\u001b[0;32m----> 3\u001b[0;31m     \u001b[0;32mwhile\u001b[0m \u001b[0mwalk\u001b[0m\u001b[0;34m.\u001b[0m\u001b[0m_next\u001b[0m \u001b[0;34m!=\u001b[0m \u001b[0;32mNone\u001b[0m\u001b[0;34m:\u001b[0m\u001b[0;34m\u001b[0m\u001b[0;34m\u001b[0m\u001b[0m\n\u001b[0m\u001b[1;32m      4\u001b[0m         \u001b[0mprint\u001b[0m\u001b[0;34m(\u001b[0m\u001b[0mwalk\u001b[0m\u001b[0;34m.\u001b[0m\u001b[0m_element\u001b[0m\u001b[0;34m,\u001b[0m \u001b[0mend\u001b[0m\u001b[0;34m=\u001b[0m\u001b[0;34m\",\"\u001b[0m\u001b[0;34m)\u001b[0m\u001b[0;34m\u001b[0m\u001b[0;34m\u001b[0m\u001b[0m\n\u001b[1;32m      5\u001b[0m         \u001b[0mwalk\u001b[0m \u001b[0;34m=\u001b[0m \u001b[0mwalk\u001b[0m\u001b[0;34m.\u001b[0m\u001b[0m_next\u001b[0m\u001b[0;34m\u001b[0m\u001b[0;34m\u001b[0m\u001b[0m\n",
      "\u001b[0;31mAttributeError\u001b[0m: 'Empty' object has no attribute '_next'"
     ]
    }
   ],
   "source": [
    "l2.imprimir() #Manda error porque l2 es Empty, significa que quedó bien"
   ]
  },
  {
   "cell_type": "code",
   "execution_count": null,
   "metadata": {},
   "outputs": [],
   "source": []
  }
 ],
 "metadata": {
  "kernelspec": {
   "display_name": "Python 3.9.13 ('base')",
   "language": "python",
   "name": "python3"
  },
  "language_info": {
   "codemirror_mode": {
    "name": "ipython",
    "version": 3
   },
   "file_extension": ".py",
   "mimetype": "text/x-python",
   "name": "python",
   "nbconvert_exporter": "python",
   "pygments_lexer": "ipython3",
   "version": "3.9.13"
  },
  "orig_nbformat": 4,
  "vscode": {
   "interpreter": {
    "hash": "40d3a090f54c6569ab1632332b64b2c03c39dcf918b08424e98f38b5ae0af88f"
   }
  }
 },
 "nbformat": 4,
 "nbformat_minor": 2
}
