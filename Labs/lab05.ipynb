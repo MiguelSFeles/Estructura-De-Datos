{
 "cells": [
  {
   "cell_type": "code",
   "execution_count": 3,
   "metadata": {},
   "outputs": [],
   "source": [
    "arreglo1 = [ [ [1,2,3,4], [4,5,6,7] ],[[1,-1,1,0], [2,1,0,0]]]\n",
    "arreglo2 = [ [ [-1,-1,-1,2], [0,0,0,3] ],[[1,1,1,0], [2,2,2,9]]]"
   ]
  },
  {
   "cell_type": "code",
   "execution_count": 4,
   "metadata": {},
   "outputs": [
    {
     "data": {
      "text/plain": [
       "[[[0, 1, 2, 6], [4, 5, 6, 10]], [[2, 0, 2, 0], [4, 3, 2, 9]]]"
      ]
     },
     "execution_count": 4,
     "metadata": {},
     "output_type": "execute_result"
    }
   ],
   "source": [
    "def sumT(arreglo1, arreglo2): #Sumar arreglos tridimensionales\n",
    "   listaa = []\n",
    "   for z in range(len(arreglo1)):\n",
    "      lista = []\n",
    "      for m in range(len(arreglo1[z])):\n",
    "         lista.append( [arreglo1[z][m][i] + arreglo2[z][m][i] for i in range(len(arreglo1[z][m]))]) \n",
    "      listaa.append(lista)\n",
    "   return listaa\n",
    "\n",
    "sumT(arreglo1, arreglo2)"
   ]
  },
  {
   "cell_type": "code",
   "execution_count": 5,
   "metadata": {},
   "outputs": [
    {
     "data": {
      "text/plain": [
       "[[[1, 3], [4, 5]], [[5, 6], [8, 8]]]"
      ]
     },
     "execution_count": 5,
     "metadata": {},
     "output_type": "execute_result"
    }
   ],
   "source": [
    "arreglox = [[[1,2],[3,4]], [[5,6], [7,8]]]\n",
    "arregloy = [[[0,1],[1,1]], [[0,0], [1,0]]]\n",
    "\n",
    "sumT(arreglox, arregloy)\n",
    "\n"
   ]
  },
  {
   "cell_type": "code",
   "execution_count": null,
   "metadata": {},
   "outputs": [],
   "source": []
  }
 ],
 "metadata": {
  "kernelspec": {
   "display_name": "Python 3.9.13 ('base')",
   "language": "python",
   "name": "python3"
  },
  "language_info": {
   "codemirror_mode": {
    "name": "ipython",
    "version": 3
   },
   "file_extension": ".py",
   "mimetype": "text/x-python",
   "name": "python",
   "nbconvert_exporter": "python",
   "pygments_lexer": "ipython3",
   "version": "3.9.13"
  },
  "orig_nbformat": 4,
  "vscode": {
   "interpreter": {
    "hash": "40d3a090f54c6569ab1632332b64b2c03c39dcf918b08424e98f38b5ae0af88f"
   }
  }
 },
 "nbformat": 4,
 "nbformat_minor": 2
}
