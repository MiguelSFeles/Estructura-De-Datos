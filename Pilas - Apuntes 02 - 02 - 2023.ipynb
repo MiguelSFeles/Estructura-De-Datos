{
 "cells": [
  {
   "cell_type": "markdown",
   "metadata": {},
   "source": [
    "### Miguel Santiago Feles Gómez\n",
    "### Apuntes 03 - 02 -2023\n",
    "### Stack - Pila"
   ]
  },
  {
   "cell_type": "markdown",
   "metadata": {},
   "source": [
    "Las pilas son como cartuchos, donde el último elemento que agrego es el primero en salir."
   ]
  },
  {
   "cell_type": "code",
   "execution_count": 2,
   "metadata": {},
   "outputs": [],
   "source": [
    "class ArrayStack:\n",
    "    def __init__(self):\n",
    "        self._data = []\n",
    "\n",
    "    def __len__(self): #Retorna el largo de la pila\n",
    "        return len(self._data)\n",
    "\n",
    "    def __str__(self): #Devuelve la pila en forma de string\n",
    "        return str(self._data)\n",
    "\n",
    "\n",
    "    def is_empty(self): #Verifica si la pila es vacía\n",
    "        return len(self._data) == 0\n",
    "\n",
    "    def push(self,e): #Agrega valores a la pila\n",
    "        self._data.append(e)\n",
    "\n",
    "    def top(self):\n",
    "        if self.is_empty(): #Retorna el primer valor de la pila\n",
    "            raise Empty('Stack is empty')\n",
    "        return self._data[-1]\n",
    "\n",
    "    def pop(self):\n",
    "        if self.is_empty(): #Elimina el último elemento de la pila y retorna cuál es\n",
    "            raise Empty('Stack is empty')\n",
    "        return self._data.pop()       \n"
   ]
  },
  {
   "cell_type": "code",
   "execution_count": 8,
   "metadata": {},
   "outputs": [
    {
     "name": "stdout",
     "output_type": "stream",
     "text": [
      "La cadena tiene:  ([])] Error\n",
      "La cadena tiene:  {([])} Todos los paréntesis se cierran bien\n"
     ]
    }
   ],
   "source": [
    "def matching(str): #Mira si cada paréntesis de apertura tiene su cierre\n",
    "\n",
    "    \"\"\"Ejemplo {()} en el primer caso recibe { y lo agrega a la pila, luego ( que también la agrega.\n",
    "     Al momento de recibir ) que es uno de cierre elimina de la pila él último que entró que sería ( despué hace lo mismo cuando recibe }\n",
    "     \"\"\"\n",
    "    pila = ArrayStack()\n",
    "    start = \"{[(\"\n",
    "    finish = \"}])\"\n",
    "    for i in str:\n",
    "        if pila.is_empty() and i in \")]}\":\n",
    "            return \"Error\" \n",
    "        if i in start:\n",
    "            pila.push(i)\n",
    "            continue\n",
    "        if i in finish and finish.index(i) != start.index(pila.top()):\n",
    "            return \"Error el parentesis no está cerrando\"\n",
    "        if i in finish and finish.index(i) == start.index(pila.top()):\n",
    "            pila.pop()\n",
    "\n",
    "    return \"Todos los paréntesis se cierran bien\"\n",
    "\n",
    "print(\"La cadena tiene:  ([])]\", matching(\"([])]\"))\n",
    "print(\"La cadena tiene:  {([])}\", matching(\"{([])}\"))\n",
    "        \n",
    "\n",
    "        \n"
   ]
  },
  {
   "cell_type": "code",
   "execution_count": 11,
   "metadata": {},
   "outputs": [
    {
     "data": {
      "text/plain": [
       "('[6, 7, 8, 9, 4, 5]', '[1, 2, 3]', '[]')"
      ]
     },
     "execution_count": 11,
     "metadata": {},
     "output_type": "execute_result"
    }
   ],
   "source": [
    "R = ArrayStack()\n",
    "R.push(1)\n",
    "R.push(2)\n",
    "R.push(3)\n",
    "\n",
    "S = ArrayStack()\n",
    "S.push(4)\n",
    "S.push(5)\n",
    "\n",
    "T = ArrayStack()\n",
    "T.push(6)\n",
    "T.push(7)\n",
    "T.push(8)\n",
    "T.push(9)\n",
    "\n",
    "def array(r, s, t):\n",
    "    c = s.__len__() + r.__len__() + 1\n",
    "    for i in range(s.__len__()): \n",
    "        r.push(s.pop())\n",
    "  \n",
    "    for x in range(t.__len__()):\n",
    "        r.push(t.pop())\n",
    "\n",
    "    for i in range(c):\n",
    "        s.push(r.pop())\n",
    "\n",
    "    return str(s), str(r), str(t)\n",
    "\n",
    "array(R,S,T)\n"
   ]
  }
 ],
 "metadata": {
  "kernelspec": {
   "display_name": "Python 3.9.13 ('base')",
   "language": "python",
   "name": "python3"
  },
  "language_info": {
   "codemirror_mode": {
    "name": "ipython",
    "version": 3
   },
   "file_extension": ".py",
   "mimetype": "text/x-python",
   "name": "python",
   "nbconvert_exporter": "python",
   "pygments_lexer": "ipython3",
   "version": "3.9.13"
  },
  "orig_nbformat": 4,
  "vscode": {
   "interpreter": {
    "hash": "40d3a090f54c6569ab1632332b64b2c03c39dcf918b08424e98f38b5ae0af88f"
   }
  }
 },
 "nbformat": 4,
 "nbformat_minor": 2
}
